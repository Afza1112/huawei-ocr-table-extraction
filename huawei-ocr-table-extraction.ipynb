{
  "nbformat": 4,
  "nbformat_minor": 0,
  "metadata": {
    "colab": {
      "provenance": [],
      "gpuType": "T4"
    },
    "kernelspec": {
      "name": "python3",
      "display_name": "Python 3"
    },
    "language_info": {
      "name": "python"
    },
    "accelerator": "GPU"
  },
  "cells": [
    {
      "cell_type": "code",
      "execution_count": null,
      "metadata": {
        "colab": {
          "base_uri": "https://localhost:8080/"
        },
        "id": "zgI0o8Sl9QXU",
        "outputId": "2f327991-c4e8-4e35-d615-848d59b9605a"
      },
      "outputs": [
        {
          "output_type": "stream",
          "name": "stdout",
          "text": [
            "Collecting huaweicloudsdkocr\n",
            "  Downloading huaweicloudsdkocr-3.1.157-py2.py3-none-any.whl.metadata (1.1 kB)\n",
            "Collecting huaweicloudsdkcore>=3.1.157 (from huaweicloudsdkocr)\n",
            "  Downloading huaweicloudsdkcore-3.1.157-py2.py3-none-any.whl.metadata (1.5 kB)\n",
            "Requirement already satisfied: requests-toolbelt>=0.10.1 in /usr/local/lib/python3.11/dist-packages (from huaweicloudsdkcore>=3.1.157->huaweicloudsdkocr) (1.0.0)\n",
            "Requirement already satisfied: six>=1.16.0 in /usr/local/lib/python3.11/dist-packages (from huaweicloudsdkcore>=3.1.157->huaweicloudsdkocr) (1.17.0)\n",
            "Requirement already satisfied: simplejson>=3.18.0 in /usr/local/lib/python3.11/dist-packages (from huaweicloudsdkcore>=3.1.157->huaweicloudsdkocr) (3.20.1)\n",
            "Requirement already satisfied: PyYAML>=5.4.1 in /usr/local/lib/python3.11/dist-packages (from huaweicloudsdkcore>=3.1.157->huaweicloudsdkocr) (6.0.2)\n",
            "Requirement already satisfied: pyasn1>=0.5.0 in /usr/local/lib/python3.11/dist-packages (from huaweicloudsdkcore>=3.1.157->huaweicloudsdkocr) (0.6.1)\n",
            "Requirement already satisfied: typing-extensions in /usr/local/lib/python3.11/dist-packages (from huaweicloudsdkcore>=3.1.157->huaweicloudsdkocr) (4.14.1)\n",
            "Collecting pymongo (from huaweicloudsdkcore>=3.1.157->huaweicloudsdkocr)\n",
            "  Downloading pymongo-4.13.2-cp311-cp311-manylinux_2_17_x86_64.manylinux2014_x86_64.whl.metadata (22 kB)\n",
            "Requirement already satisfied: defusedxml in /usr/local/lib/python3.11/dist-packages (from huaweicloudsdkcore>=3.1.157->huaweicloudsdkocr) (0.7.1)\n",
            "Requirement already satisfied: requests<3.0.0,>=2.0.1 in /usr/local/lib/python3.11/dist-packages (from requests-toolbelt>=0.10.1->huaweicloudsdkcore>=3.1.157->huaweicloudsdkocr) (2.32.3)\n",
            "Collecting dnspython<3.0.0,>=1.16.0 (from pymongo->huaweicloudsdkcore>=3.1.157->huaweicloudsdkocr)\n",
            "  Downloading dnspython-2.7.0-py3-none-any.whl.metadata (5.8 kB)\n",
            "Requirement already satisfied: charset-normalizer<4,>=2 in /usr/local/lib/python3.11/dist-packages (from requests<3.0.0,>=2.0.1->requests-toolbelt>=0.10.1->huaweicloudsdkcore>=3.1.157->huaweicloudsdkocr) (3.4.2)\n",
            "Requirement already satisfied: idna<4,>=2.5 in /usr/local/lib/python3.11/dist-packages (from requests<3.0.0,>=2.0.1->requests-toolbelt>=0.10.1->huaweicloudsdkcore>=3.1.157->huaweicloudsdkocr) (3.10)\n",
            "Requirement already satisfied: urllib3<3,>=1.21.1 in /usr/local/lib/python3.11/dist-packages (from requests<3.0.0,>=2.0.1->requests-toolbelt>=0.10.1->huaweicloudsdkcore>=3.1.157->huaweicloudsdkocr) (2.5.0)\n",
            "Requirement already satisfied: certifi>=2017.4.17 in /usr/local/lib/python3.11/dist-packages (from requests<3.0.0,>=2.0.1->requests-toolbelt>=0.10.1->huaweicloudsdkcore>=3.1.157->huaweicloudsdkocr) (2025.7.14)\n",
            "Downloading huaweicloudsdkocr-3.1.157-py2.py3-none-any.whl (627 kB)\n",
            "\u001b[2K   \u001b[90m━━━━━━━━━━━━━━━━━━━━━━━━━━━━━━━━━━━━━━━━\u001b[0m \u001b[32m627.6/627.6 kB\u001b[0m \u001b[31m43.8 MB/s\u001b[0m eta \u001b[36m0:00:00\u001b[0m\n",
            "\u001b[?25hDownloading huaweicloudsdkcore-3.1.157-py2.py3-none-any.whl (67 kB)\n",
            "\u001b[2K   \u001b[90m━━━━━━━━━━━━━━━━━━━━━━━━━━━━━━━━━━━━━━━━\u001b[0m \u001b[32m67.5/67.5 kB\u001b[0m \u001b[31m6.5 MB/s\u001b[0m eta \u001b[36m0:00:00\u001b[0m\n",
            "\u001b[?25hDownloading pymongo-4.13.2-cp311-cp311-manylinux_2_17_x86_64.manylinux2014_x86_64.whl (1.4 MB)\n",
            "\u001b[2K   \u001b[90m━━━━━━━━━━━━━━━━━━━━━━━━━━━━━━━━━━━━━━━━\u001b[0m \u001b[32m1.4/1.4 MB\u001b[0m \u001b[31m78.0 MB/s\u001b[0m eta \u001b[36m0:00:00\u001b[0m\n",
            "\u001b[?25hDownloading dnspython-2.7.0-py3-none-any.whl (313 kB)\n",
            "\u001b[2K   \u001b[90m━━━━━━━━━━━━━━━━━━━━━━━━━━━━━━━━━━━━━━━━\u001b[0m \u001b[32m313.6/313.6 kB\u001b[0m \u001b[31m31.0 MB/s\u001b[0m eta \u001b[36m0:00:00\u001b[0m\n",
            "\u001b[?25hInstalling collected packages: dnspython, pymongo, huaweicloudsdkcore, huaweicloudsdkocr\n",
            "Successfully installed dnspython-2.7.0 huaweicloudsdkcore-3.1.157 huaweicloudsdkocr-3.1.157 pymongo-4.13.2\n"
          ]
        }
      ],
      "source": [
        "pip install huaweicloudsdkocr"
      ]
    },
    {
      "cell_type": "code",
      "source": [
        "pip install pandas   #run this sceond command when you perfrom this lab in huawei notebook but if you are perfroming in google collab then no need to run this command"
      ],
      "metadata": {
        "id": "AuUAQZ5BOa8N"
      },
      "execution_count": null,
      "outputs": []
    },
    {
      "cell_type": "code",
      "source": [
        "pip install matplotlib  #run this sceond command when you perfrom this lab in huawei notebook but if you are perfroming in google collab then no need to run this command"
      ],
      "metadata": {
        "id": "2EItICwVOQXE"
      },
      "execution_count": null,
      "outputs": []
    },
    {
      "cell_type": "code",
      "source": [
        "#run this sceond command when you perfrom this lab in huawei notebook but if you are perfroming in google collab then no need to run this command\n",
        "mv /home/ma-user/modelarts-dev/modelarts-sdk/matplotlib /home/ma-user/modelarts-dev/modelarts-sdk/matplotlib_backup\n"
      ],
      "metadata": {
        "id": "OyyBw4w3NoKk"
      },
      "execution_count": null,
      "outputs": []
    },
    {
      "cell_type": "code",
      "source": [
        "#run this sceond command when you perfrom this lab in huawei notebook but if you are perfroming in google collab then no need to run this command\n",
        "pip install --upgrade --force-reinstall matplotlib"
      ],
      "metadata": {
        "id": "EZE_lKEUOGF9"
      },
      "execution_count": null,
      "outputs": []
    },
    {
      "cell_type": "code",
      "source": [
        "from huaweicloudsdkcore.auth.credentials import BasicCredentials\n",
        "from huaweicloudsdkocr.v1.region.ocr_region import OcrRegion\n",
        "from huaweicloudsdkocr.v1.ocr_client import OcrClient\n",
        "from huaweicloudsdkocr.v1.model.recognize_general_table_request import RecognizeGeneralTableRequest\n",
        "from huaweicloudsdkocr.v1.model.general_table_request_body import GeneralTableRequestBody\n",
        "import json"
      ],
      "metadata": {
        "id": "upNJgCBwAHlt"
      },
      "execution_count": null,
      "outputs": []
    },
    {
      "cell_type": "code",
      "source": [
        "# Step 1: Replace with your AK/SK\n",
        "ak = \"HPUA9WEEUIEIFVKADLB3\"\n",
        "sk = \"lp8H2znzVmU8uVRQlhm4zkeKCKOAGjbUb9mOZ0t\""
      ],
      "metadata": {
        "id": "Opie1BONAMY7"
      },
      "execution_count": null,
      "outputs": []
    },
    {
      "cell_type": "code",
      "source": [
        "import requests\n",
        "\n",
        "api_key = 'K83318542688957'\n",
        "image_url = 'https://exceldatapro.com/wp-content/uploads/2019/07/Student-Fee-Collection-System.jpg'\n",
        "\n",
        "payload = {\n",
        "    'url': image_url,\n",
        "    'apikey': api_key,\n",
        "    'language': 'eng',\n",
        "    'isOverlayRequired': False\n",
        "}\n",
        "\n",
        "response = requests.post(\"https://api.ocr.space/parse/image\", data=payload)\n",
        "\n",
        "if response.status_code == 200:\n",
        "    result = response.json()\n",
        "    if result[\"IsErroredOnProcessing\"]:\n",
        "        print(\"Error:\", result[\"ErrorMessage\"])\n",
        "    else:\n",
        "        print(\"Text:\\n\", result[\"ParsedResults\"][0][\"ParsedText\"])\n",
        "else:\n",
        "    print(\"Failed with status:\", response.status_code)"
      ],
      "metadata": {
        "colab": {
          "base_uri": "https://localhost:8080/"
        },
        "id": "YhIDSDDeCF7F",
        "outputId": "4992e3a7-5075-4747-8299-88ff1c944062"
      },
      "execution_count": null,
      "outputs": [
        {
          "output_type": "stream",
          "name": "stdout",
          "text": [
            "Text:\n",
            " www.TxceCData\"Pro.com\r\n",
            "Student fee Collection System\r\n",
            "Navigation Index and Fee Summary Report\r\n",
            "call: .919687 SSSS63\r\n",
            "Fee Receipt Sheet\r\n",
            "Class\r\n",
            "Nur-B\r\n",
            "'KG.A\r\n",
            "'KG.B\r\n",
            "S KG.A\r\n",
            "Fee Collection\r\n",
            "Class Fee\r\n",
            "Navigation\r\n",
            "9300\r\n",
            "9500\r\n",
            "9700\r\n",
            "Fee Pending\r\n",
            "Sheet\r\n",
            "pen dine Fee\r\n",
            "N t ion\r\n",
            "Nur-A\r\n",
            "JKG-A\r\n",
            "JKG-B\r\n",
            "Total Fee\r\n",
            "Due\r\n",
            "Class-Wise\r\n",
            "570000\r\n",
            "576000\r\n",
            "Fee Received\r\n",
            "Class-Wise\r\n",
            "401700\r\n",
            "Outstanding\r\n",
            "Difference\r\n",
            "Summary\r\n",
            "Class-Wise\r\n",
            "152000\r\n",
            "170000\r\n",
            "176000\r\n",
            "182000\r\n",
            "\n"
          ]
        }
      ]
    },
    {
      "cell_type": "code",
      "source": [
        "import re\n",
        "\n",
        "# Example OCR text (define this based on your actual OCR output)\n",
        "ocr_text = \"\"\"\n",
        "www.TxceCData\"Pro.com\n",
        "Student fee Collection System\n",
        "Navigation Index and Fee Summary Report\n",
        "call: .919687 SSSS63\n",
        "Fee Receipt Sheet\n",
        "Class\n",
        "Nur-B\n",
        "'KG.A\n",
        "'KG.B\n",
        "S KG.A\n",
        "Fee Collection\n",
        "Class Fee\n",
        "Navigation\n",
        "9300\n",
        "9500\n",
        "9700\n",
        "Fee Pending\n",
        "Sheet\n",
        "pen dine Fee\n",
        "N t ion\n",
        "Nur-A\n",
        "JKG-A\n",
        "JKG-B\n",
        "Total Fee\n",
        "Due\n",
        "Class-Wise\n",
        "570000\n",
        "576000\n",
        "Fee Received\n",
        "Class-Wise\n",
        "401700\n",
        "Outstanding\n",
        "Difference\n",
        "Summary\n",
        "Class-Wise\n",
        "152000\n",
        "170000\n",
        "176000\n",
        "182000\n",
        "\"\"\"\n",
        "\n",
        "# Now the loop will work properly\n",
        "for line in ocr_text.strip().split(\"\\n\"):\n",
        "    # Match lines with pattern like: Item A  $3.00\n",
        "    match = re.match(r'(Item \\w+)\\s+\\$(\\d+\\.\\d{2})', line)\n",
        "    if match:\n",
        "        item = match.group(1)\n",
        "        price = float(match.group(2))\n",
        "        print(f\"{item}: ${price:.2f}\")\n"
      ],
      "metadata": {
        "id": "TxRf0K_sFkyz"
      },
      "execution_count": null,
      "outputs": []
    },
    {
      "cell_type": "code",
      "source": [
        "import pandas as pd\n",
        "\n",
        "# Structured data from the OCR text (based on your input)\n",
        "data = [\n",
        "    {\"Class\": \"Nur-A\", \"Total Fee\": 570000, \"Fee Received\": 401700, \"Outstanding\": 152000},\n",
        "    {\"Class\": \"JKG-A\", \"Total Fee\": 576000, \"Fee Received\": None, \"Outstanding\": 170000},\n",
        "    {\"Class\": \"JKG-B\", \"Total Fee\": None,  \"Fee Received\": None, \"Outstanding\": 176000},\n",
        "    {\"Class\": \"KG-A\",  \"Total Fee\": None,  \"Fee Received\": None, \"Outstanding\": 182000}\n",
        "]\n",
        "\n",
        "# Create the DataFrame\n",
        "df = pd.DataFrame(data)\n",
        "\n",
        "# Display it\n",
        "print(df)\n"
      ],
      "metadata": {
        "colab": {
          "base_uri": "https://localhost:8080/"
        },
        "id": "vU5fTMT_GGjj",
        "outputId": "84c96d7a-fff6-4cb7-ec2e-4d7302725d3d"
      },
      "execution_count": null,
      "outputs": [
        {
          "output_type": "stream",
          "name": "stdout",
          "text": [
            "   Class  Total Fee  Fee Received  Outstanding\n",
            "0  Nur-A   570000.0      401700.0       152000\n",
            "1  JKG-A   576000.0           NaN       170000\n",
            "2  JKG-B        NaN           NaN       176000\n",
            "3   KG-A        NaN           NaN       182000\n"
          ]
        }
      ]
    },
    {
      "cell_type": "code",
      "source": [
        "import matplotlib.pyplot as plt\n",
        "\n",
        "plt.figure(figsize=(8, 5))\n",
        "plt.bar(df[\"Class\"], df[\"Outstanding\"], color=\"salmon\")\n",
        "plt.title(\"Outstanding Fees by Class\")\n",
        "plt.xlabel(\"Class\")\n",
        "plt.ylabel(\"Outstanding Fee ($)\")\n",
        "plt.grid(True, linestyle='--', alpha=0.5)\n",
        "plt.tight_layout()\n",
        "plt.show()\n"
      ],
      "metadata": {
        "colab": {
          "base_uri": "https://localhost:8080/",
          "height": 507
        },
        "id": "AX-hWNgMGa2d",
        "outputId": "b0b68e76-4694-4ae3-83e5-95d392a708f8"
      },
      "execution_count": null,
      "outputs": [
        {
          "output_type": "display_data",
          "data": {
            "text/plain": [
              "<Figure size 800x500 with 1 Axes>"
            ],
            "image/png": "[encoded data removed]"
          },
          "metadata": {}
        }
      ]
    }
  ]
}